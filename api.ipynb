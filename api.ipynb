{
  "nbformat": 4,
  "nbformat_minor": 0,
  "metadata": {
    "colab": {
      "provenance": [],
      "authorship_tag": "ABX9TyP3tB1j5xCxRFZbO6/OmgsE",
      "include_colab_link": true
    },
    "kernelspec": {
      "name": "python3",
      "display_name": "Python 3"
    },
    "language_info": {
      "name": "python"
    }
  },
  "cells": [
    {
      "cell_type": "markdown",
      "metadata": {
        "id": "view-in-github",
        "colab_type": "text"
      },
      "source": [
        "<a href=\"https://colab.research.google.com/github/OVP2023/dataPY/blob/main/api.ipynb\" target=\"_parent\"><img src=\"https://colab.research.google.com/assets/colab-badge.svg\" alt=\"Open In Colab\"/></a>"
      ]
    },
    {
      "cell_type": "code",
      "execution_count": 2,
      "metadata": {
        "id": "r3riZZWFyZo3"
      },
      "outputs": [],
      "source": [
        "import requests #API к переводчику яндекса\n",
        "\n",
        "url = 'https://dictionary.yandex.net/api/v1/dicservice.json/lookup'\n",
        "token = 'dict.1.1.20220928T183617Z.4449b33063fe4328.b93679d48620ed6f3c20da6bff0237bcbd0e8d6a'  # токен из подсказки\n",
        "\n",
        "\n",
        "def translate_word_all(word: str) -> str:\n",
        "    param = {'key': token,\n",
        "             'lang': 'ru-en',   #ru-en  ru-fr  ru-pl\n",
        "             'text': word,\n",
        "             'ui': 'ru'\n",
        "             }\n",
        "    response = requests.get(url=url, params=param).json()\n",
        "    trans_word = response['def'][0]['tr'][0]['text']\n",
        "    return response,'->',trans_word"
      ]
    },
    {
      "cell_type": "code",
      "source": [
        "translate_word_all('собака')"
      ],
      "metadata": {
        "colab": {
          "base_uri": "https://localhost:8080/"
        },
        "id": "Std0Lo-2yku9",
        "outputId": "e88c0caf-d04d-47aa-852b-749335dfbd4c"
      },
      "execution_count": 3,
      "outputs": [
        {
          "output_type": "execute_result",
          "data": {
            "text/plain": [
              "({'head': {},\n",
              "  'def': [{'text': 'собака',\n",
              "    'pos': 'существительное',\n",
              "    'gen': 'ж',\n",
              "    'anm': 'одуш',\n",
              "    'tr': [{'text': 'dog',\n",
              "      'pos': 'существительное',\n",
              "      'fr': 10,\n",
              "      'ts': 'dɒg',\n",
              "      'syn': [{'text': 'hound',\n",
              "        'pos': 'существительное',\n",
              "        'fr': 1,\n",
              "        'ts': 'haʊnd'}],\n",
              "      'mean': [{'text': 'пес'}, {'text': 'гончая'}]},\n",
              "     {'text': 'pooch', 'pos': 'существительное', 'fr': 1, 'ts': 'puːʧ'}]}],\n",
              "  'nmt_code': 200,\n",
              "  'code': 200},\n",
              " '->',\n",
              " 'dog')"
            ]
          },
          "metadata": {},
          "execution_count": 3
        }
      ]
    },
    {
      "cell_type": "code",
      "source": [
        "url = 'https://dictionary.yandex.net/api/v1/dicservice.json/lookup'\n",
        "token = 'dict.1.1.20241223T145026Z.a9e7b8979eb4da31.658db09d14c6d1af14640d76b54ca9f07b09e8a6' #бесплатный токен с https://yandex.ru/dev/\n",
        "\n",
        "\n",
        "def translate_word(word: str) -> str:\n",
        "    param = {'key': token,\n",
        "             'lang': 'ru-en',   #ru-en  ru-fr  ru-pl\n",
        "             'text': word,\n",
        "             'ui': 'ru'\n",
        "             }\n",
        "    response = requests.get(url=url, params=param).json()\n",
        "    trans_word = response['def'][0]['tr'][0]['text']\n",
        "    return trans_word  #выводит только слово\n"
      ],
      "metadata": {
        "id": "ojtVCN703JpW"
      },
      "execution_count": 4,
      "outputs": []
    },
    {
      "cell_type": "code",
      "source": [
        "translate_word('собака')"
      ],
      "metadata": {
        "colab": {
          "base_uri": "https://localhost:8080/",
          "height": 35
        },
        "id": "Nq20kNuE3Pzr",
        "outputId": "6d11df6f-df9a-4812-8ccb-e67746412c58"
      },
      "execution_count": 5,
      "outputs": [
        {
          "output_type": "execute_result",
          "data": {
            "text/plain": [
              "'dog'"
            ],
            "application/vnd.google.colaboratory.intrinsic+json": {
              "type": "string"
            }
          },
          "metadata": {},
          "execution_count": 5
        }
      ]
    },
    {
      "cell_type": "code",
      "source": [
        "import requests #API к геолокации\n",
        "import time\n",
        "\n",
        "API_KEY = '676287436d60f291633538rtef95b9b'\n",
        "BASE_URL = 'https://geocode.maps.co/reverse'\n",
        "\n",
        "def find_uk_city(lat,lon):\n",
        "    uk_cities = [\"Leeds\", \"London\", \"Liverpool\", \"Manchester\", \"Oxford\", \"Edinburgh\", \"Norwich\", \"York\"]\n",
        "\n",
        "    params = {\n",
        "        'lat': lat,\n",
        "        'lon': lon,\n",
        "        'api_key': API_KEY\n",
        "     }\n",
        "    response = requests.get(BASE_URL, params=params)\n",
        "    data = response.json()\n",
        "\n",
        "    city = data.get('address', {}).get('city', \"\")\n",
        "\n",
        "    if city in uk_cities:\n",
        "        return  data, city\n",
        "\n",
        "        time.sleep(1)\n",
        "    return None\n"
      ],
      "metadata": {
        "id": "Ca6ZPmKB4geZ"
      },
      "execution_count": 6,
      "outputs": []
    },
    {
      "cell_type": "code",
      "source": [
        "#coordinates={'lat':53.403553,'lon':-2.986844}\n",
        "find_uk_city(53.403553,-2.986844)"
      ],
      "metadata": {
        "colab": {
          "base_uri": "https://localhost:8080/"
        },
        "id": "0KxiZ83N4h4s",
        "outputId": "da94ed4f-5eb2-4145-88de-c8ecc344fdac"
      },
      "execution_count": 7,
      "outputs": [
        {
          "output_type": "execute_result",
          "data": {
            "text/plain": [
              "({'place_id': 245884834,\n",
              "  'licence': 'Data © OpenStreetMap contributors, ODbL 1.0. https://osm.org/copyright',\n",
              "  'osm_type': 'way',\n",
              "  'osm_id': 1060162567,\n",
              "  'lat': '53.40369045',\n",
              "  'lon': '-2.9862246226099423',\n",
              "  'display_name': 'Liverpool One, Basnett Street, City Centre, Vauxhall, Liverpool, Liverpool City Region, England, L1 1EL, United Kingdom',\n",
              "  'address': {'shop': 'Liverpool One',\n",
              "   'road': 'Basnett Street',\n",
              "   'quarter': 'City Centre',\n",
              "   'suburb': 'Vauxhall',\n",
              "   'city': 'Liverpool',\n",
              "   'ISO3166-2-lvl8': 'GB-LIV',\n",
              "   'state_district': 'Liverpool City Region',\n",
              "   'state': 'England',\n",
              "   'ISO3166-2-lvl4': 'GB-ENG',\n",
              "   'postcode': 'L1 1EL',\n",
              "   'country': 'United Kingdom',\n",
              "   'country_code': 'gb'},\n",
              "  'boundingbox': ['53.4021157', '53.405299', '-2.9900636', '-2.9824151']},\n",
              " 'Liverpool')"
            ]
          },
          "metadata": {},
          "execution_count": 7
        }
      ]
    },
    {
      "cell_type": "code",
      "source": [],
      "metadata": {
        "id": "o5j1mgKp4n4o"
      },
      "execution_count": null,
      "outputs": []
    }
  ]
}