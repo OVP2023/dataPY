{
  "nbformat": 4,
  "nbformat_minor": 0,
  "metadata": {
    "colab": {
      "provenance": [],
      "include_colab_link": true
    },
    "kernelspec": {
      "name": "python3",
      "display_name": "Python 3"
    },
    "language_info": {
      "name": "python"
    }
  },
  "cells": [
    {
      "cell_type": "markdown",
      "metadata": {
        "id": "view-in-github",
        "colab_type": "text"
      },
      "source": [
        "<a href=\"https://colab.research.google.com/github/OVP2023/dataPY/blob/main/%D0%BD%D0%B5%D0%B9%D1%80%D0%BE%D0%BD%D0%BA%D0%B0_2.ipynb\" target=\"_parent\"><img src=\"https://colab.research.google.com/assets/colab-badge.svg\" alt=\"Open In Colab\"/></a>"
      ]
    },
    {
      "cell_type": "markdown",
      "source": [
        "Делаем нейронку многослойный перцептон MLP c одним входным, одним выходным слоем, без скрытых слоев спомощью python и библиотеки Keras из справочника по нейронным сетям Виталия Гульчеева. Дана с ошибкой при созаднии входного слоя, так ка accuracy=0.25  а не 0.75 как автор пишет)"
      ],
      "metadata": {
        "id": "H58wrFJz8sO9"
      }
    },
    {
      "cell_type": "code",
      "source": [
        "import numpy as np\n",
        "\n",
        "#input data\n",
        "X=np.array([[0,0],[0,1],[1,0],[1,1]])\n",
        "y=np.array([[0],[1],[1],[0]])"
      ],
      "metadata": {
        "id": "DgbhL4Yv8sov"
      },
      "execution_count": null,
      "outputs": []
    },
    {
      "cell_type": "code",
      "source": [
        "from keras.models import Sequential\n",
        "from keras.layers import Dense\n",
        "\n",
        "#Creat the model\n",
        "model = Sequential()\n",
        "\n",
        "#Add the input and output layers\n",
        "model.add(Dense(1,input_dim=2))\n",
        "\n",
        "#compile the model\n",
        "model.compile(loss='mean_squared_error',optimizer='adam',metrics=['accuracy'])"
      ],
      "metadata": {
        "colab": {
          "base_uri": "https://localhost:8080/"
        },
        "id": "P36hRJcu9_WP",
        "outputId": "a7f6dd61-55a3-4448-a634-ca3d859ca01d"
      },
      "execution_count": null,
      "outputs": [
        {
          "output_type": "stream",
          "name": "stderr",
          "text": [
            "/usr/local/lib/python3.10/dist-packages/keras/src/layers/core/dense.py:87: UserWarning: Do not pass an `input_shape`/`input_dim` argument to a layer. When using Sequential models, prefer using an `Input(shape)` object as the first layer in the model instead.\n",
            "  super().__init__(activity_regularizer=activity_regularizer, **kwargs)\n"
          ]
        }
      ]
    },
    {
      "cell_type": "code",
      "source": [
        "#Train the model\n",
        "model.fit(X,y,epochs=1000,verbose=0)\n",
        "\n",
        "#Evaluate the model\n",
        "loss,accuracy = model.evaluate(X,y)\n",
        "print(f'Loss:{loss}, Accuracy:{accuracy}')"
      ],
      "metadata": {
        "colab": {
          "base_uri": "https://localhost:8080/"
        },
        "id": "CEriW2lH_vXT",
        "outputId": "e4804e11-3743-4845-e213-5c15b58dac0e"
      },
      "execution_count": null,
      "outputs": [
        {
          "output_type": "stream",
          "name": "stdout",
          "text": [
            "\u001b[1m1/1\u001b[0m \u001b[32m━━━━━━━━━━━━━━━━━━━━\u001b[0m\u001b[37m\u001b[0m \u001b[1m0s\u001b[0m 125ms/step - accuracy: 0.2500 - loss: 0.2513\n",
            "Loss:0.2512882947921753, Accuracy:0.25\n"
          ]
        }
      ]
    },
    {
      "cell_type": "code",
      "source": [
        "# Сохранить обученную сеть можно через Pickle или TensorFlow's tf.saved_model"
      ],
      "metadata": {
        "id": "6BLrKO_vB7uI"
      },
      "execution_count": null,
      "outputs": []
    }
  ]
}