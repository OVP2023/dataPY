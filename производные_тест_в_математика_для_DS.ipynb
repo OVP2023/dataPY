{
  "nbformat": 4,
  "nbformat_minor": 0,
  "metadata": {
    "colab": {
      "provenance": [],
      "authorship_tag": "ABX9TyOXbjQbw1P2TWTazoUvDrpj",
      "include_colab_link": true
    },
    "kernelspec": {
      "name": "python3",
      "display_name": "Python 3"
    },
    "language_info": {
      "name": "python"
    }
  },
  "cells": [
    {
      "cell_type": "markdown",
      "metadata": {
        "id": "view-in-github",
        "colab_type": "text"
      },
      "source": [
        "<a href=\"https://colab.research.google.com/github/OVP2023/dataPY/blob/main/%D0%BF%D1%80%D0%BE%D0%B8%D0%B7%D0%B2%D0%BE%D0%B4%D0%BD%D1%8B%D0%B5_%D1%82%D0%B5%D1%81%D1%82_%D0%B2_%D0%BC%D0%B0%D1%82%D0%B5%D0%BC%D0%B0%D1%82%D0%B8%D0%BA%D0%B0_%D0%B4%D0%BB%D1%8F_DS.ipynb\" target=\"_parent\"><img src=\"https://colab.research.google.com/assets/colab-badge.svg\" alt=\"Open In Colab\"/></a>"
      ]
    },
    {
      "cell_type": "code",
      "execution_count": 50,
      "metadata": {
        "colab": {
          "base_uri": "https://localhost:8080/"
        },
        "id": "urcSD9JOGHHp",
        "outputId": "e28bbd11-fe24-4ab9-dd78-6c6cd2343043"
      },
      "outputs": [
        {
          "output_type": "stream",
          "name": "stdout",
          "text": [
            "4*x**3 - 2*x**2 - 3*x + 3\n",
            "12*x**2 - 4*x - 3\n",
            "53\n"
          ]
        }
      ],
      "source": [
        "#вычисление производных\n",
        "import sympy as sym\n",
        "from sympy.abc import x\n",
        "#х=sym.Symbol('x')\n",
        "\n",
        "#п.1 теста\n",
        "y=4*x**3-2*x**2-3*x+3\n",
        "d=sym.diff(y)\n",
        "print(y)\n",
        "print(d)\n",
        "print(d.subs(x,-2))\n",
        "\n",
        "#a=sym.diff('4*x**3-2*x**2-3*x+3')\n",
        "#print(a.subs(x,2))"
      ]
    },
    {
      "cell_type": "code",
      "source": [
        "#п2\n",
        "y=12*x**2 - 4*x - 3\n",
        "d=sym.diff(y)\n",
        "print(y)\n",
        "print(d)\n",
        "print(d.subs(x,-2))\n"
      ],
      "metadata": {
        "colab": {
          "base_uri": "https://localhost:8080/"
        },
        "id": "H0hgeaROPo31",
        "outputId": "d62e4b40-c8a2-41f5-d3a5-ba05c5004959"
      },
      "execution_count": 51,
      "outputs": [
        {
          "output_type": "stream",
          "name": "stdout",
          "text": [
            "12*x**2 - 4*x - 3\n",
            "24*x - 4\n",
            "-52\n"
          ]
        }
      ]
    },
    {
      "cell_type": "code",
      "source": [
        "#п3\n",
        "import numpy as np\n",
        "y=4*sym.sin(x**2) - 3*sym.cos(2*x) + 2*sym.sin(3*x)\n",
        "d=sym.diff(y)\n",
        "print('уравнение',y)\n",
        "print('производная',d)\n",
        "print('для ',np.pi/6,'производная равна',d.subs(x,np.pi/6))"
      ],
      "metadata": {
        "colab": {
          "base_uri": "https://localhost:8080/"
        },
        "id": "jrkMPmJ7QMJa",
        "outputId": "fe512e05-acb4-42d2-848e-770c903e877b"
      },
      "execution_count": 31,
      "outputs": [
        {
          "output_type": "stream",
          "name": "stdout",
          "text": [
            "уравнение 2*sin(3*x) + 4*sin(x**2) - 3*cos(2*x)\n",
            "производная 8*x*cos(x**2) + 6*sin(2*x) + 6*cos(3*x)\n",
            "для  0.5235987755982988 производная равна 9.22850860324280\n"
          ]
        }
      ]
    },
    {
      "cell_type": "code",
      "source": [
        "#п4\n",
        "y=8*x*cos(x**2) + 6*sin(2*x) + 6*cos(3*x)\n",
        "d=sym.diff(y)\n",
        "print('уравнение',y)\n",
        "print('производная',d)\n",
        "print('для ',np.pi/6,'производная равна',d.subs(x,np.pi/6))"
      ],
      "metadata": {
        "colab": {
          "base_uri": "https://localhost:8080/"
        },
        "id": "Qf09uHsqRl_U",
        "outputId": "19d67495-402d-4b86-d56a-20f2e6c034d2"
      },
      "execution_count": 32,
      "outputs": [
        {
          "output_type": "stream",
          "name": "stdout",
          "text": [
            "уравнение 8*x*cos(x**2) + 6*sin(2*x) + 6*cos(3*x)\n",
            "производная -16*x**2*sin(x**2) - 18*sin(3*x) + 12*cos(2*x) + 8*cos(x**2)\n",
            "для  0.5235987755982988 производная равна -5.48634025841424\n"
          ]
        }
      ]
    },
    {
      "cell_type": "code",
      "source": [
        "#п5\n",
        "y=np.e**(-3*x)+2*x**2+5\n",
        "d=sym.diff(y)\n",
        "print('уравнение',y)\n",
        "print('производная',d)\n",
        "print('для ',2,'производная равна',d.subs(x,2))"
      ],
      "metadata": {
        "colab": {
          "base_uri": "https://localhost:8080/"
        },
        "id": "j8S-b_tmSRou",
        "outputId": "03a4b449-3159-460f-f712-b31ab784047b"
      },
      "execution_count": 37,
      "outputs": [
        {
          "output_type": "stream",
          "name": "stdout",
          "text": [
            "уравнение 2*x**2 + 5 + 2.71828182845905**(-3*x)\n",
            "производная 4*x - 3.0/2.71828182845905**(3*x)\n",
            "для  2 производная равна 7.99256374347000\n"
          ]
        }
      ]
    },
    {
      "cell_type": "code",
      "source": [
        "#п6\n",
        "y=4*x - 3.0/2.71828182845905**(3*x)\n",
        "d=sym.diff(y)\n",
        "print('уравнение',y)\n",
        "print('производная',d)\n",
        "print('для ',2,'производная равна',d.subs(x,2))"
      ],
      "metadata": {
        "colab": {
          "base_uri": "https://localhost:8080/"
        },
        "id": "d14mS9pNTCJ7",
        "outputId": "432b6513-bc6c-4a8a-95de-7396de9bb38f"
      },
      "execution_count": 53,
      "outputs": [
        {
          "output_type": "stream",
          "name": "stdout",
          "text": [
            "уравнение 4*x - 3.0/2.71828182845905**(3*x)\n",
            "производная 4 + 9.00000000000002/2.71828182845905**(3*x)\n",
            "для  2 производная равна 4.02230876959000\n"
          ]
        }
      ]
    },
    {
      "cell_type": "code",
      "source": [
        "#п7\n",
        "y=sym.sin(x**2)-3*sym.ln(x)\n",
        "d=sym.diff(y)\n",
        "print('уравнение',y)\n",
        "print('производная',d)\n",
        "print('для ',3,'производная равна',d.subs(x,3))\n",
        "print(6*np.cos(9)-1)"
      ],
      "metadata": {
        "colab": {
          "base_uri": "https://localhost:8080/"
        },
        "id": "1gZ3Ye5jTwJl",
        "outputId": "5b250ff6-d81f-4459-f1cf-182ba687473c"
      },
      "execution_count": 45,
      "outputs": [
        {
          "output_type": "stream",
          "name": "stdout",
          "text": [
            "уравнение -3*log(x) + sin(x**2)\n",
            "производная 2*x*cos(x**2) - 3/x\n",
            "для  3 производная равна 6*cos(9) - 1\n",
            "-6.466781571308061\n"
          ]
        }
      ]
    },
    {
      "cell_type": "code",
      "source": [
        "#п8\n",
        "y=2*x*sym.cos(x**2) - 3/x\n",
        "d=sym.diff(y)\n",
        "print('уравнение',y)\n",
        "print('производная',d)\n",
        "print('для ',3,'производная равна',d.subs(x,3))\n",
        "print(-36*np.sin(9) + 2*np.cos(9) + 1/3)"
      ],
      "metadata": {
        "colab": {
          "base_uri": "https://localhost:8080/"
        },
        "id": "VURqubhaVMc-",
        "outputId": "49bd0f2e-ab40-43a5-f105-de9573981b1f"
      },
      "execution_count": 47,
      "outputs": [
        {
          "output_type": "stream",
          "name": "stdout",
          "text": [
            "уравнение 2*x*cos(x**2) - 3/x\n",
            "производная -4*x**2*sin(x**2) + 2*cos(x**2) + 3/x**2\n",
            "для  3 производная равна -36*sin(9) + 2*cos(9) + 1/3\n",
            "-16.325192659139258\n"
          ]
        }
      ]
    },
    {
      "cell_type": "code",
      "source": [
        "#п9\n",
        "y=(x**3+3*x+1)/(x**2-2*x+5)\n",
        "d=sym.diff(y)\n",
        "print('уравнение',y)\n",
        "print('производная',d)\n",
        "print('для ',3,'производная равна',d.subs(x,4))"
      ],
      "metadata": {
        "colab": {
          "base_uri": "https://localhost:8080/"
        },
        "id": "PkIFLrLyWA3i",
        "outputId": "e7878a51-b3fe-47c7-d3ca-5a3acfdc4684"
      },
      "execution_count": 48,
      "outputs": [
        {
          "output_type": "stream",
          "name": "stdout",
          "text": [
            "уравнение (x**3 + 3*x + 1)/(x**2 - 2*x + 5)\n",
            "производная (2 - 2*x)*(x**3 + 3*x + 1)/(x**2 - 2*x + 5)**2 + (3*x**2 + 3)/(x**2 - 2*x + 5)\n",
            "для  3 производная равна 201/169\n"
          ]
        }
      ]
    },
    {
      "cell_type": "code",
      "source": [
        "#п10\n",
        "y=(2 - 2*x)*(x**3 + 3*x + 1)/(x**2 - 2*x + 5)**2 + (3*x**2 + 3)/(x**2 - 2*x + 5)\n",
        "d=sym.diff(y)\n",
        "print('уравнение',y)\n",
        "print('производная',d)\n",
        "print('для ',3,'производная равна',d.subs(x,4))"
      ],
      "metadata": {
        "colab": {
          "base_uri": "https://localhost:8080/"
        },
        "id": "FBp4IjBqXAuA",
        "outputId": "02646355-b295-4afa-fba5-f9b1f8513ab4"
      },
      "execution_count": 49,
      "outputs": [
        {
          "output_type": "stream",
          "name": "stdout",
          "text": [
            "уравнение (2 - 2*x)*(x**3 + 3*x + 1)/(x**2 - 2*x + 5)**2 + (3*x**2 + 3)/(x**2 - 2*x + 5)\n",
            "производная 6*x/(x**2 - 2*x + 5) + (2 - 2*x)*(4 - 4*x)*(x**3 + 3*x + 1)/(x**2 - 2*x + 5)**3 + 2*(2 - 2*x)*(3*x**2 + 3)/(x**2 - 2*x + 5)**2 - 2*(x**3 + 3*x + 1)/(x**2 - 2*x + 5)**2\n",
            "для  3 производная равна -358/2197\n"
          ]
        }
      ]
    }
  ]
}