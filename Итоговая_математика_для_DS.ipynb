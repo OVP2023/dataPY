{
  "nbformat": 4,
  "nbformat_minor": 0,
  "metadata": {
    "colab": {
      "provenance": [],
      "include_colab_link": true
    },
    "kernelspec": {
      "name": "python3",
      "display_name": "Python 3"
    },
    "language_info": {
      "name": "python"
    }
  },
  "cells": [
    {
      "cell_type": "markdown",
      "metadata": {
        "id": "view-in-github",
        "colab_type": "text"
      },
      "source": [
        "<a href=\"https://colab.research.google.com/github/OVP2023/dataPY/blob/main/%D0%98%D1%82%D0%BE%D0%B3%D0%BE%D0%B2%D0%B0%D1%8F_%D0%BC%D0%B0%D1%82%D0%B5%D0%BC%D0%B0%D1%82%D0%B8%D0%BA%D0%B0_%D0%B4%D0%BB%D1%8F_DS.ipynb\" target=\"_parent\"><img src=\"https://colab.research.google.com/assets/colab-badge.svg\" alt=\"Open In Colab\"/></a>"
      ]
    },
    {
      "cell_type": "markdown",
      "source": [
        "Итоговая работа."
      ],
      "metadata": {
        "id": "gijOnWqvSooo"
      }
    },
    {
      "cell_type": "code",
      "source": [
        "\n",
        "import matplotlib.pyplot as plt\n",
        "import numpy as np\n",
        "\n",
        "from scipy.optimize import differential_evolution\n",
        "from scipy.optimize import minimize\n",
        "from scipy.stats import norm\n",
        "%matplotlib inline"
      ],
      "metadata": {
        "id": "sdIcwyKoOFXU"
      },
      "execution_count": null,
      "outputs": []
    },
    {
      "cell_type": "code",
      "source": [
        "#Задание 1\n",
        "#Вычислите производную функции y\n",
        "#в точке x0=1\n",
        "\n",
        "import sympy as sym\n",
        "from sympy.abc import x\n",
        "\n",
        "y=sym.tan(sym.sin(x)+sym.cos(2*x+3))**2\n",
        "d=sym.diff(y)\n",
        "print('Формула функции y:', y)\n",
        "print('Формула производной: ',d)\n",
        "print('Формула производной в точке x0=1', d.subs(x,1))\n",
        "print('Производная в точке x0=1 равна ',2*(1 + np.tan(np.cos(5) + np.sin(1))**2)*(np.cos(1) - 2*np.sin(5))*np.tan(np.cos(5) + np.sin(1)))"
      ],
      "metadata": {
        "colab": {
          "base_uri": "https://localhost:8080/"
        },
        "id": "iQ5n1nWSRweW",
        "outputId": "46e7d1f9-30d6-4f05-ece6-394c7720ab5f"
      },
      "execution_count": null,
      "outputs": [
        {
          "output_type": "stream",
          "name": "stdout",
          "text": [
            "Формула функции y: tan(sin(x) + cos(2*x + 3))**2\n",
            "Формула производной:  2*(-2*sin(2*x + 3) + cos(x))*(tan(sin(x) + cos(2*x + 3))**2 + 1)*tan(sin(x) + cos(2*x + 3))\n",
            "Формула производной в точке x0=1 2*(1 + tan(cos(5) + sin(1))**2)*(cos(1) - 2*sin(5))*tan(cos(5) + sin(1))\n",
            "Производная в точке x0=1 равна  55.385917635337854\n"
          ]
        }
      ]
    },
    {
      "cell_type": "markdown",
      "source": [
        "Задание2  Дан объект в 2D пространстве. При помощи матричных операций выполните:\n",
        "\n",
        "Масштабирование и смещение объекта (применить 2 матрицы трансформаций). Масштабирование на (0.5, 1.2) и смещение на (200, 300)\n",
        "\n",
        "Была ошибка Задание 2 - операции преобразования выполняются вместе, последовательно друг за другом к исходному объекту. Для смещения на (200, 300) можно просто A + [200, 300, 0] или матрица [[1, 0, 200],[0, 1, 300], [0, 0, 0]], а для масштабирования на (0.5, 1.2) поможет [[0.5, 0, 0], [0, 1.2, 0], [0, 0, 1]]. Когда мы применяем трансформацию к самому объекту задавая [[1, 0, 200], [0, 1, 300], [0, 0, 1]] нам следует делать это с транспонированием, в другом случае, когда применяем ко всем значениям оси [[1, 0, 0], [0, 1, 0], [200, 300, 1]] тогда без.\n"
      ],
      "metadata": {
        "id": "6bsa_UBDX10u"
      }
    },
    {
      "cell_type": "code",
      "source": [
        "import matplotlib.pyplot as plt\n",
        "\n",
        "A = [\n",
        "[-100, -100, 1],\n",
        "[0, 100, 1],\n",
        "[100, -100, 1],\n",
        "[-100, -100, 1]\n",
        "]\n",
        "\n",
        "A = np.array(A)\n",
        "\n",
        "x = A[:,0]\n",
        "y = A[:,1]\n",
        "plt.plot(x, y)\n",
        "plt.ylim([-200, 200])\n",
        "plt.xlim([-200, 200])"
      ],
      "metadata": {
        "colab": {
          "base_uri": "https://localhost:8080/",
          "height": 452
        },
        "id": "PkglKBE3YPYm",
        "outputId": "f27ed652-03e0-462b-be82-60ef3939bb52"
      },
      "execution_count": null,
      "outputs": [
        {
          "output_type": "execute_result",
          "data": {
            "text/plain": [
              "(-200.0, 200.0)"
            ]
          },
          "metadata": {},
          "execution_count": 11
        },
        {
          "output_type": "display_data",
          "data": {
            "text/plain": [
              "<Figure size 640x480 with 1 Axes>"
            ],
            "image/png": "[encoded data removed]"
          },
          "metadata": {}
        }
      ]
    },
    {
      "cell_type": "code",
      "source": [
        "#Для масштабирования (0.5,1.2) применяем диагональную матрицу\n",
        "B1=np.array([[0.5,0,0],[0,1.2,0],[0,0,1]])\n",
        "#Для смещения (200,300)\n",
        "B =[\n",
        "[200, 300, 0]\n",
        "]\n",
        "\n",
        "res1=B1@A.transpose()\n",
        "#результат масштабирования смещаем на (200,300)\n",
        "tt1=res1.transpose() + B"
      ],
      "metadata": {
        "id": "PRLS8UWrZtB2"
      },
      "execution_count": null,
      "outputs": []
    },
    {
      "cell_type": "code",
      "source": [
        "x1 = tt1[:,0]\n",
        "y1 = tt1[:,1]\n",
        "plt.plot(x, y)\n",
        "plt.plot(x1, y1)\n",
        "plt.ylim([-500, 500])\n",
        "plt.xlim([-500, 500])"
      ],
      "metadata": {
        "colab": {
          "base_uri": "https://localhost:8080/",
          "height": 447
        },
        "id": "pJBPmJvQZvxq",
        "outputId": "d2de1131-3ef4-4579-e968-c8a6dd821010"
      },
      "execution_count": null,
      "outputs": [
        {
          "output_type": "execute_result",
          "data": {
            "text/plain": [
              "(-500.0, 500.0)"
            ]
          },
          "metadata": {},
          "execution_count": 21
        },
        {
          "output_type": "display_data",
          "data": {
            "text/plain": [
              "<Figure size 640x480 with 1 Axes>"
            ],
            "image/png": "[encoded data removed]"
          },
          "metadata": {}
        }
      ]
    },
    {
      "cell_type": "markdown",
      "source": [
        "Была ошибка Задание 2 - операции преобразования выполняются вместе, последовательно друг за другом к исходному объекту.\n",
        "Для смещения на (200, 300) можно просто A + [200, 300, 0] или матрица [[1, 0, 200],[0, 1, 300], [0, 0, 0]], а для масштабирования на (0.5, 1.2) поможет [[0.5, 0, 0], [0, 1.2, 0], [0, 0, 1]]. Когда мы применяем трансформацию к самому объекту задавая [[1, 0, 200], [0, 1, 300], [0, 0, 1]] нам следует делать это с транспонированием, в другом случае, когда применяем ко всем значениям оси [[1, 0, 0], [0, 1, 0], [200, 300, 1]] тогда без."
      ],
      "metadata": {
        "id": "GzTBL-Uynuvd"
      }
    },
    {
      "cell_type": "markdown",
      "source": [
        "Задание 3\n",
        "Найдите собственные значения и собственные вектора матрицы:"
      ],
      "metadata": {
        "id": "dz3h-dwQcnsZ"
      }
    },
    {
      "cell_type": "code",
      "source": [
        "#Получаем собственные значения и матрицу собственных векторов матрицы m\n",
        "m = np.array([[1, 4],\n",
        "              [1, 1]])\n",
        "a, U = np.linalg.eig(m)\n",
        "print('Собственные значения',a)\n",
        "print('Матрица собственных векторов',U)"
      ],
      "metadata": {
        "colab": {
          "base_uri": "https://localhost:8080/"
        },
        "id": "K6ykJwsYcj-M",
        "outputId": "edc2418a-104d-439b-f3d4-c98cbcfb3a89"
      },
      "execution_count": null,
      "outputs": [
        {
          "output_type": "stream",
          "name": "stdout",
          "text": [
            "Собственные значения [ 3. -1.]\n",
            "Матрица собственных векторов [[ 0.89442719 -0.89442719]\n",
            " [ 0.4472136   0.4472136 ]]\n"
          ]
        }
      ]
    },
    {
      "cell_type": "markdown",
      "source": [
        "Задание 3 - Верно"
      ],
      "metadata": {
        "id": "RXXdjmAlnKyg"
      }
    },
    {
      "cell_type": "markdown",
      "source": [
        "Задание 4\n",
        "Дана функция с неизвестными параметрами a и b, вам также известны значения функции fx в точках x.\n",
        "\n",
        "Найдите оптимальные параметры a, b, минимизирующие абсолютную ошибку error."
      ],
      "metadata": {
        "id": "ktpe2eMjefyF"
      }
    },
    {
      "cell_type": "code",
      "source": [
        "def f(x, a, b):\n",
        "    return np.e**a * np.sin(b*x) + x"
      ],
      "metadata": {
        "id": "Q36sLZQuenRv"
      },
      "execution_count": null,
      "outputs": []
    },
    {
      "cell_type": "code",
      "source": [
        "x = np.array([0.        , 0.26315789, 0.52631579, 0.78947368, 1.05263158,\n",
        "              1.31578947, 1.57894737, 1.84210526, 2.10526316, 2.36842105,\n",
        "              2.63157895, 2.89473684, 3.15789474, 3.42105263, 3.68421053,\n",
        "              3.94736842, 4.21052632, 4.47368421, 4.73684211, 5.        ])\n",
        "\n",
        "fx = np.array([  0.        , -12.01819092, -18.90968634, -17.68786571,\n",
        "                -8.7529108 ,   4.27524517,  16.06801336,  21.81250213,\n",
        "                19.22059845,   9.48411207,  -3.22273056, -13.48576488,\n",
        "               -16.91096359, -11.95866834,  -0.58630088,  12.56873816,\n",
        "                22.12489421,  24.20292139,  18.04522521,   6.33211092])"
      ],
      "metadata": {
        "id": "P1XA_xcxesl5"
      },
      "execution_count": null,
      "outputs": []
    },
    {
      "cell_type": "code",
      "source": [
        "plt.plot(x, fx)\n",
        "plt.show()"
      ],
      "metadata": {
        "colab": {
          "base_uri": "https://localhost:8080/",
          "height": 430
        },
        "id": "CsN31jIaevZ8",
        "outputId": "4b0a422f-1aae-44c2-810a-ceb7d7aafb58"
      },
      "execution_count": null,
      "outputs": [
        {
          "output_type": "display_data",
          "data": {
            "text/plain": [
              "<Figure size 640x480 with 1 Axes>"
            ],
            "image/png": "[encoded data removed]"
          },
          "metadata": {}
        }
      ]
    },
    {
      "cell_type": "code",
      "source": [
        "def error(params):\n",
        "    return np.sum(np.abs(fx - f(x, params[0], params[1])))"
      ],
      "metadata": {
        "id": "3qmjRlw9e2Qn"
      },
      "execution_count": null,
      "outputs": []
    },
    {
      "cell_type": "code",
      "source": [
        "from scipy.optimize import minimize\n",
        "\n",
        "x0=np.array([0.5,-17])\n",
        "#nelder-mead оптимизирует не совсем точно\n",
        "#res = minimize(error, x0, method='nelder-mead',\n",
        "#    options={'disp': True})\n",
        "\n",
        "#вариант более точной оптимизации по методу оптимизации COBYLA (Constrained Optimization BY Linear Approximations), который является методом безусловной оптимизации, т.е. не требует определения ограничений для параметров\n",
        "#res = minimize(error, [0,0], method='COBYLA')\n",
        "\n",
        "#Дифференциальная эволюция  [(-5, 5), (-25, 25)] bounds представляет собой список кортежей, задающих диапазон значений каждого из параметров функции error\n",
        "res = differential_evolution(error, [(-5, 5), (-25, 25)])\n",
        "\n",
        "print(res.x)"
      ],
      "metadata": {
        "colab": {
          "base_uri": "https://localhost:8080/"
        },
        "id": "Ykrp3fWJe4ur",
        "outputId": "d90a3149-9379-4b8b-a546-8772e57aadfe"
      },
      "execution_count": null,
      "outputs": [
        {
          "output_type": "stream",
          "name": "stdout",
          "text": [
            "[ 3.         21.37610417]\n"
          ]
        }
      ]
    },
    {
      "cell_type": "code",
      "source": [
        "#Строим график исходных данных\n",
        "plt.plot(x,fx,'ro',label='Original data')\n",
        "#Строим график модели с оптимальными параметрами\n",
        "plt.plot(x,f(x,res.x[0],res.x[1]),'b-',label='Model function')\n",
        "plt.legend\n",
        "plt.show"
      ],
      "metadata": {
        "colab": {
          "base_uri": "https://localhost:8080/",
          "height": 600
        },
        "id": "t6ipll--TZ0Q",
        "outputId": "af9d8a63-065f-47d0-a1dd-c54ebb1fb41f"
      },
      "execution_count": null,
      "outputs": [
        {
          "output_type": "execute_result",
          "data": {
            "text/plain": [
              "<function matplotlib.pyplot.show(close=None, block=None)>"
            ],
            "text/html": [
              "<div style=\"max-width:800px; border: 1px solid var(--colab-border-color);\"><style>\n",
              "      pre.function-repr-contents {\n",
              "        overflow-x: auto;\n",
              "        padding: 8px 12px;\n",
              "        max-height: 500px;\n",
              "      }\n",
              "\n",
              "      pre.function-repr-contents.function-repr-contents-collapsed {\n",
              "        cursor: pointer;\n",
              "        max-height: 100px;\n",
              "      }\n",
              "    </style>\n",
              "    <pre style=\"white-space: initial; background:\n",
              "         var(--colab-secondary-surface-color); padding: 8px 12px;\n",
              "         border-bottom: 1px solid var(--colab-border-color);\"><b>matplotlib.pyplot.show</b><br/>def show(*args, **kwargs)</pre><pre class=\"function-repr-contents function-repr-contents-collapsed\" style=\"\"><a class=\"filepath\" style=\"display:none\" href=\"#\">/usr/local/lib/python3.10/dist-packages/matplotlib/pyplot.py</a>Display all open figures.\n",
              "\n",
              "Parameters\n",
              "----------\n",
              "block : bool, optional\n",
              "    Whether to wait for all figures to be closed before returning.\n",
              "\n",
              "    If `True` block and run the GUI main loop until all figure windows\n",
              "    are closed.\n",
              "\n",
              "    If `False` ensure that all figure windows are displayed and return\n",
              "    immediately.  In this case, you are responsible for ensuring\n",
              "    that the event loop is running to have responsive figures.\n",
              "\n",
              "    Defaults to True in non-interactive mode and to False in interactive\n",
              "    mode (see `.pyplot.isinteractive`).\n",
              "\n",
              "See Also\n",
              "--------\n",
              "ion : Enable interactive mode, which shows / updates the figure after\n",
              "      every plotting command, so that calling ``show()`` is not necessary.\n",
              "ioff : Disable interactive mode.\n",
              "savefig : Save the figure to an image file instead of showing it on screen.\n",
              "\n",
              "Notes\n",
              "-----\n",
              "**Saving figures to file and showing a window at the same time**\n",
              "\n",
              "If you want an image file as well as a user interface window, use\n",
              "`.pyplot.savefig` before `.pyplot.show`. At the end of (a blocking)\n",
              "``show()`` the figure is closed and thus unregistered from pyplot. Calling\n",
              "`.pyplot.savefig` afterwards would save a new and thus empty figure. This\n",
              "limitation of command order does not apply if the show is non-blocking or\n",
              "if you keep a reference to the figure and use `.Figure.savefig`.\n",
              "\n",
              "**Auto-show in jupyter notebooks**\n",
              "\n",
              "The jupyter backends (activated via ``%matplotlib inline``,\n",
              "``%matplotlib notebook``, or ``%matplotlib widget``), call ``show()`` at\n",
              "the end of every cell by default. Thus, you usually don&#x27;t have to call it\n",
              "explicitly there.</pre>\n",
              "      <script>\n",
              "      if (google.colab.kernel.accessAllowed && google.colab.files && google.colab.files.view) {\n",
              "        for (const element of document.querySelectorAll('.filepath')) {\n",
              "          element.style.display = 'block'\n",
              "          element.onclick = (event) => {\n",
              "            event.preventDefault();\n",
              "            event.stopPropagation();\n",
              "            google.colab.files.view(element.textContent, 401);\n",
              "          };\n",
              "        }\n",
              "      }\n",
              "      for (const element of document.querySelectorAll('.function-repr-contents')) {\n",
              "        element.onclick = (event) => {\n",
              "          event.preventDefault();\n",
              "          event.stopPropagation();\n",
              "          element.classList.toggle('function-repr-contents-collapsed');\n",
              "        };\n",
              "      }\n",
              "      </script>\n",
              "      </div>"
            ]
          },
          "metadata": {},
          "execution_count": 13
        },
        {
          "output_type": "display_data",
          "data": {
            "text/plain": [
              "<Figure size 640x480 with 1 Axes>"
            ],
            "image/png": "[encoded data removed]"
          },
          "metadata": {}
        }
      ]
    },
    {
      "cell_type": "markdown",
      "source": [
        "Задание 4 - Верно! Единственное получилось не совсем оптимально:\n",
        "\n",
        "Можно minimize(error, [0,0], method='COBYLA').x\n",
        "Данный код решает задачу оптимизации параметров a и b для функции f(x, a, b) таким образом, чтобы минимизировать абсолютную ошибку error между значениями функции f(x, a, b) и исходными значениями fx в точках x.\n",
        "\n",
        "В данном случае используется функция minimize из библиотеки scipy.optimize, которая минимизирует заданную функцию ошибки error при заданных начальных значениях параметров [0, 0] (в данном случае для a и b). Метод оптимизации, используемый здесь - COBYLA (Constrained Optimization BY Linear Approximations), который является методом безусловной оптимизации, т.е. не требует определения ограничений для параметров.\n",
        "\n",
        "Или\n",
        "\n",
        "differential_evolution можно differential_evolution(error, [(-5, 5), (-25, 25)])\n",
        "Это решение использует глобальную оптимизацию, а именно дифференциальную эволюцию (differential evolution).\n",
        "Глобальная оптимизация позволяет найти оптимальное решение для задачи оптимизации, не ограничиваясь локальными оптимумами. Дифференциальная эволюция является одним из алгоритмов глобальной оптимизации и использует эволюционный подход.\n",
        "В данном случае, используется функция differential_evolution из библиотеки scipy.optimize, которая находит глобальный минимум функции error на заданном диапазоне параметров bounds. Параметр bounds представляет собой список кортежей, задающих диапазон значений каждого из параметров функции f.\n",
        "Результатом этого решения является оптимальный набор параметров для функции f, минимизирующий значение функции ошибки error на заданном диапазоне параметров."
      ],
      "metadata": {
        "id": "pdXIuFMdSe7m"
      }
    },
    {
      "cell_type": "markdown",
      "source": [
        "Задание 5\n",
        "Дана матрица рейтингов фильмов (строки - пользователи (10 человек), столбцы - фильмы (15 фильмов)) Необходимо найти наиболее похожего пользователя по косинусной метрике для каждого из пользователей (ответ: 10 пар вида (x, y), где y - наиболее похожий пользователь на пользователя x).\n",
        "\n",
        "В решение была ошибка в части, где находите индекс наиболее похожего пользователя. В коде, используете индекс из matrix, что приводит к смещению индексов. В результате это может привести к неправильным парам (x, y).\n",
        "\n",
        "Чтобы исправить код, нужно учесть смещение индексов, возникающее при удалении текущего пользователя из матрицы. Вместо использования текущего индекса из matrix, нужно корректировать индекс, чтобы он соответствовал исходной матрице raitings."
      ],
      "metadata": {
        "id": "IT08aX1ZgJJe"
      }
    },
    {
      "cell_type": "code",
      "source": [
        "\n",
        "raitings = np.array([[ 4,  4,  9,  4,  1,  6, 10,  7,  9,  6,  9,  2,  8,  6,  6],\n",
        "                     [ 9,  2,  5, 10,  7,  8, 10,  5,  6,  2,  1,  6,  8,  9,  7],\n",
        "                     [ 1,  6,  8,  8,  4,  9,  3,  8, 10,  5,  2,  6,  8,  1,  6],\n",
        "                     [ 6,  1,  9,  7,  7,  9,  2,  3,  5,  1,  6,  6,  3,  2,  7],\n",
        "                     [ 3,  7,  3,  5,  7,  9,  9,  6,  2,  9,  1,  2,  8, 10,  6],\n",
        "                     [ 8,  3,  7,  3,  8,  6,  1,  8,  8,  6,  1,  9,  4, 10,  1],\n",
        "                     [ 9,  8,  4,  8,  8, 10,  6,  1,  1,  2,  9,  5,  2,  7,  2],\n",
        "                     [ 4,  1,  6,  4,  3, 10,  4,  4,  2,  8,  7,  9,  3,  8,  3],\n",
        "                     [ 2,  7,  7,  6, 10,  6,  8,  9,  8,  6, 10,  1,  7, 10,  4],\n",
        "                     [ 5, 10,  8,  8,  9,  7,  2,  9,  9, 10,  8,  8,  8,  6, 10]])\n"
      ],
      "metadata": {
        "id": "uAX7o1bJgWz_"
      },
      "execution_count": null,
      "outputs": []
    },
    {
      "cell_type": "code",
      "source": [
        "list_cos={}\n",
        "for indexR, vectorR in enumerate(raitings):\n",
        "    req_product= raitings[indexR]\n",
        "    matrix=np.delete(raitings,[indexR],0)\n",
        "    max_ = 0\n",
        "    product_index = 0\n",
        "    vector_product = np.linalg.norm(req_product)\n",
        "    for index, vector in enumerate(matrix):\n",
        "        vector_product_row = np.linalg.norm(vector)\n",
        "        cos_ = np.dot(req_product, vector) / (vector_product * vector_product_row)\n",
        "        if cos_ > max_:\n",
        "            max_ = cos_\n",
        "            product_index = index\n",
        "    #корректировка индекса похожего фильма в зависимости от индекса исследуемой строки в raitings\n",
        "    if product_index < indexR:\n",
        "        list_cos[indexR] = product_index\n",
        "    else:\n",
        "        list_cos[indexR] = product_index+1\n",
        "print(list_cos)"
      ],
      "metadata": {
        "colab": {
          "base_uri": "https://localhost:8080/"
        },
        "id": "AX1tkqW4IxF0",
        "outputId": "d738d0e6-8692-4a30-a95b-7e0f2e0f9b08"
      },
      "execution_count": null,
      "outputs": [
        {
          "output_type": "stream",
          "name": "stdout",
          "text": [
            "{0: 8, 1: 4, 2: 9, 3: 9, 4: 8, 5: 9, 6: 3, 7: 5, 8: 0, 9: 2}\n"
          ]
        }
      ]
    },
    {
      "cell_type": "markdown",
      "source": [
        "Задание 5 - Верно!\n",
        "Прикрепляю пример короткой реализации косинусного сходства:\n",
        "\n",
        "from sklearn.metrics import pairwise_distances\n",
        "\n",
        "for i, vector in enumerate(pairwise_distances(raitings, metric=\"cosine\")):\n",
        "    print(i, list(vector).index(np.min(vector[np.nonzero(vector)])))"
      ],
      "metadata": {
        "id": "hbOSqI1hSEDM"
      }
    }
  ]
}