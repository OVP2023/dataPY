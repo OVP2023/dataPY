{
  "nbformat": 4,
  "nbformat_minor": 0,
  "metadata": {
    "colab": {
      "provenance": [],
      "authorship_tag": "ABX9TyMruS0yhLtmGzgbBowlJZ3K",
      "include_colab_link": true
    },
    "kernelspec": {
      "name": "python3",
      "display_name": "Python 3"
    },
    "language_info": {
      "name": "python"
    }
  },
  "cells": [
    {
      "cell_type": "markdown",
      "metadata": {
        "id": "view-in-github",
        "colab_type": "text"
      },
      "source": [
        "<a href=\"https://colab.research.google.com/github/OVP2023/dataPY/blob/main/%D0%BC%D0%B0%D1%82%D1%80%D0%B8%D1%86%D1%8B1.ipynb\" target=\"_parent\"><img src=\"https://colab.research.google.com/assets/colab-badge.svg\" alt=\"Open In Colab\"/></a>"
      ]
    },
    {
      "cell_type": "markdown",
      "source": [
        "\n",
        "Задание 1\n",
        "\n",
        "    Создайте матрицу 3 на 3, заполненную числами от 1 до 9\n",
        "    Прибавьте к ней матрицу с единицами на диагонале\n",
        "    Умножьте полученную матрицу на вектор (1, 2, 3)\n",
        "    Вычислить транспонированную матрицу\n",
        "\n",
        "от полученной в результате прибавления матрицы\n",
        "Посчитайте обратную матрицу к полученной в результате прибавления матрице"
      ],
      "metadata": {
        "id": "l_Pyygj8_5nU"
      }
    },
    {
      "cell_type": "code",
      "source": [
        "import numpy as np\n",
        "A1=np.array([[1,2,3],[4,5,6],[7,8,9]])\n",
        "A1"
      ],
      "metadata": {
        "colab": {
          "base_uri": "https://localhost:8080/"
        },
        "id": "2q6nPyWGAAdJ",
        "outputId": "469d0317-8bfe-456c-8d84-d9bdde0ba487"
      },
      "execution_count": null,
      "outputs": [
        {
          "output_type": "execute_result",
          "data": {
            "text/plain": [
              "array([[1, 2, 3],\n",
              "       [4, 5, 6],\n",
              "       [7, 8, 9]])"
            ]
          },
          "metadata": {},
          "execution_count": 2
        }
      ]
    },
    {
      "cell_type": "code",
      "source": [
        "A2=np.eye(3)\n",
        "A2"
      ],
      "metadata": {
        "colab": {
          "base_uri": "https://localhost:8080/"
        },
        "id": "bezed0oZAoTI",
        "outputId": "630bf9cc-2723-466b-dbc6-fff6ded5ca01"
      },
      "execution_count": null,
      "outputs": [
        {
          "output_type": "execute_result",
          "data": {
            "text/plain": [
              "array([[1., 0., 0.],\n",
              "       [0., 1., 0.],\n",
              "       [0., 0., 1.]])"
            ]
          },
          "metadata": {},
          "execution_count": 3
        }
      ]
    },
    {
      "cell_type": "code",
      "source": [
        "A3=A1+A2\n",
        "A3"
      ],
      "metadata": {
        "colab": {
          "base_uri": "https://localhost:8080/"
        },
        "id": "AdjUlSUDBjOz",
        "outputId": "b087ae9a-d772-4ded-cb5d-713ab862edc0"
      },
      "execution_count": null,
      "outputs": [
        {
          "output_type": "execute_result",
          "data": {
            "text/plain": [
              "array([[ 2.,  2.,  3.],\n",
              "       [ 4.,  6.,  6.],\n",
              "       [ 7.,  8., 10.]])"
            ]
          },
          "metadata": {},
          "execution_count": 4
        }
      ]
    },
    {
      "cell_type": "code",
      "source": [
        "A4=A3@np.array([1,2,3])\n",
        "A4"
      ],
      "metadata": {
        "colab": {
          "base_uri": "https://localhost:8080/"
        },
        "id": "c0TEuj2JB2oi",
        "outputId": "9234d698-cf7a-4536-aa5f-3ab29040a21c"
      },
      "execution_count": null,
      "outputs": [
        {
          "output_type": "execute_result",
          "data": {
            "text/plain": [
              "array([15., 34., 53.])"
            ]
          },
          "metadata": {},
          "execution_count": 6
        }
      ]
    },
    {
      "cell_type": "code",
      "source": [
        "A5=np.transpose(A3)\n",
        "A5"
      ],
      "metadata": {
        "colab": {
          "base_uri": "https://localhost:8080/"
        },
        "id": "Kwc8O52JCV2N",
        "outputId": "0d678247-25a0-439a-d8a1-eefa7f3ab260"
      },
      "execution_count": null,
      "outputs": [
        {
          "output_type": "execute_result",
          "data": {
            "text/plain": [
              "array([[ 2.,  4.,  7.],\n",
              "       [ 2.,  6.,  8.],\n",
              "       [ 3.,  6., 10.]])"
            ]
          },
          "metadata": {},
          "execution_count": 8
        }
      ]
    },
    {
      "cell_type": "markdown",
      "source": [
        "\n",
        "Задание 2\n",
        "\n",
        "Найдите собственные значения и собственные вектора матрицы:\n",
        "\n",
        "m = np.array([[2, 2],\n",
        "              [1, 3]])\n",
        "print(m)\n"
      ],
      "metadata": {
        "id": "47pggnKIDnGH"
      }
    },
    {
      "cell_type": "code",
      "source": [
        "m = np.array([[2, 2], [1, 3]])\n",
        "print(m)"
      ],
      "metadata": {
        "colab": {
          "base_uri": "https://localhost:8080/"
        },
        "id": "JHOwMas-Dp_U",
        "outputId": "e1e44680-5a1d-4753-c3b0-4c6aa16e3ddc"
      },
      "execution_count": null,
      "outputs": [
        {
          "output_type": "stream",
          "name": "stdout",
          "text": [
            "[[2 2]\n",
            " [1 3]]\n"
          ]
        }
      ]
    },
    {
      "cell_type": "code",
      "source": [
        "sn=np.linalg.eig(m)\n",
        "sn\n"
      ],
      "metadata": {
        "colab": {
          "base_uri": "https://localhost:8080/"
        },
        "id": "bd1sxg3YEtpd",
        "outputId": "f10279d9-23d7-418b-d600-c63901fada79"
      },
      "execution_count": null,
      "outputs": [
        {
          "output_type": "execute_result",
          "data": {
            "text/plain": [
              "EigResult(eigenvalues=array([1., 4.]), eigenvectors=array([[-0.89442719, -0.70710678],\n",
              "       [ 0.4472136 , -0.70710678]]))"
            ]
          },
          "metadata": {},
          "execution_count": 16
        }
      ]
    },
    {
      "cell_type": "markdown",
      "source": [
        "\n",
        "Задание 3\n",
        "\n",
        "Придумайте матрицу, у которой определитель = 1, и все элементы не равны 0.\n",
        "\n",
        "P.S. Матрица должна быть ненулевой и размерностью не менее 2!\n"
      ],
      "metadata": {
        "id": "pCDtKRjPEuFR"
      }
    },
    {
      "cell_type": "code",
      "source": [
        "A7=np.array([[3,5],[1,2]])\n",
        "A7"
      ],
      "metadata": {
        "colab": {
          "base_uri": "https://localhost:8080/"
        },
        "id": "YDlUKpj0EwK1",
        "outputId": "432313d8-34fc-47b7-cd28-36e5302fd306"
      },
      "execution_count": null,
      "outputs": [
        {
          "output_type": "execute_result",
          "data": {
            "text/plain": [
              "array([[3, 5],\n",
              "       [1, 2]])"
            ]
          },
          "metadata": {},
          "execution_count": 25
        }
      ]
    },
    {
      "cell_type": "code",
      "source": [
        "np.linalg.det(A7)"
      ],
      "metadata": {
        "colab": {
          "base_uri": "https://localhost:8080/"
        },
        "id": "mJ4nKtW7JMzv",
        "outputId": "d5703b90-9b94-4075-d8dc-81ac337bf466"
      },
      "execution_count": null,
      "outputs": [
        {
          "output_type": "execute_result",
          "data": {
            "text/plain": [
              "1.0000000000000004"
            ]
          },
          "metadata": {},
          "execution_count": 26
        }
      ]
    }
  ]
}